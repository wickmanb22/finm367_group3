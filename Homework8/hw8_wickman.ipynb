{
 "cells": [
  {
   "metadata": {},
   "cell_type": "markdown",
   "source": [
    "## Homework #8\n",
    "### Portfolio and Risk Management (Fall 2024)\n",
    "### Brian Wickman"
   ],
   "id": "e92ce733538f4b35"
  },
  {
   "metadata": {},
   "cell_type": "markdown",
   "source": [
    "### 1. Conceptual Issues for LTCM\n",
    "\n",
    "1. Describe LTCM's investment strategy wrt to securities traded, trading frequency, skewness (many small wins or a few big hits?), and forecasting (what is behind their selection of trades?).\n",
    "\n",
    "LTCM primarily engaged in convergence and relative value trades with government bonds, low default risk corporate bonds and swaps, foreign currencies, and long-expiry options. The firm traded alot, with 100 different strategies and 7600 open positions during 1997, with medium-term investment horizon; convergence trades required time to reach equilibrium. LTCM sought to exploit small inefficiences through the use of leverage and cost-effective financing, typically resulting in many small wins, but also hit a few big wins. Trading opportunities were identified through security mispricings, statistical modelling, and forecasting market participant's liquidity needs.\n",
    "\n",
    "2. What are LTCM's biggest advantages over its competitors?\n",
    "\n",
    "LTCM was the valuation of novel financial instruments, the use of complex self-financing trades, and access to great financing options including a $700 million unsecured credit line and low haircuts as dealers competed for LTCM's business.\n",
    "\n",
    "3. Briefly discuss LTCM's four types of fund risk (collateral haircuts, repo maturity, equity redemption, and loan access).\n",
    "\n",
    "During periods of market stress, dealers increased collateral haircuts, which required LTCM to post more assets in a bad state of the world. I don't think this forced LTCM to liquidate positions early though, because LTCM used so little of its working capital due to financing trades through repo markets. Dealers were also hesitant to rollover short-term repo market agreements in bad states of the world, potentially restricting LTCM's financing ability. Equity redemption is the risk that investors might withdraw capital during periods of poor performance, although LTCM imposed a capital lock-up requirement of three years and allowed outflows on a staggered schedule. Lastly, as LTCM's positions deteriorated, financial institutions closed previously existing lines of credit and restricted loan access, further hampering LTCM's ability to meet collateral requirements.\n",
    "\n",
    "4. LTCM is largely in the business of selling liquidity and volatility. Describe how LTCM accounts for liquidity risk in their quantitative measurements.\n",
    "\n",
    "LTCM measures risk using the probability distribution of potential profits and losses like VaR, rare event stress testing and measuring the correlation of profits. LTCM accounts for liquidity risk by estimating how price movements can impact haircuts, or the cost of financing positions during periods of severe stress. This led to a schedule of potential worst-case liquidity demands over time, which helped LTCM to avoid forced liquidation of convergence positions.\n",
    "\n",
    "5. Is leverage risk currently a concern for LTCM?\n",
    "\n",
    "No, LTCM was 'only' leveraged 19:1 during the case study, although after returning $2.7 billion to investors (without reducing the scale of its investments) in 1997, the fund's leverage correspondingly returned to its historic high of 30:1.\n",
    "\n",
    "6. What is the risk of convergence trades, where LTCM relies on converging spreads (if spreads converge, they make money or if it diverges, the trade becomes more attractive as convergence is still expected at a future data)?\n",
    "\n",
    "The primary risk of convergence trades for LTCM was that the cost of financing could become too high, potentially forcing the fund to liquidate its positions before the expected price convergence could be achieved, resulting in significant losses. This risk was exacerbated by LTCM's high leverage and reliance on short-term financing, which made the fund vulnerable to margin calls and creditor demands during periods of market stress."
   ],
   "id": "7e0efee4f8887f56"
  },
  {
   "metadata": {},
   "cell_type": "markdown",
   "source": "### 2. LTCM Risk Decomposition",
   "id": "ed1d16fff3d7fb7"
  },
  {
   "cell_type": "code",
   "id": "initial_id",
   "metadata": {
    "collapsed": true,
    "ExecuteTime": {
     "end_time": "2024-12-01T15:08:34.963011Z",
     "start_time": "2024-12-01T15:08:33.669216Z"
    }
   },
   "source": [
    "# Set-up & Import data\n",
    "import pandas as pd\n",
    "import matplotlib.pyplot as plt\n",
    "import numpy as np\n",
    "import seaborn as sns\n",
    "import statsmodels.api as sm\n",
    "import warnings\n",
    "\n",
    "import helper_funcs\n",
    "\n",
    "warnings.filterwarnings(\"ignore\")\n",
    "sns.set_theme()\n",
    "\n",
    "# import helper functions\n",
    "import importlib\n",
    "import helper_funcs as hf\n",
    "\n",
    "# Import data\n",
    "ltcm = pd.read_excel('data/clean_data.xlsx').set_index('date')"
   ],
   "outputs": [],
   "execution_count": 1
  },
  {
   "metadata": {},
   "cell_type": "markdown",
   "source": [
    "#### 2.1 Summary Stats\n",
    "\n",
    "1. For both the gross and net series of LTCM excess returns, report the mean, volatility, and Sharpe ratios. (Annualize them.)\n",
    "2. Report the skewness, kurtosis, and (historic) VaR(.05)\n",
    "3. Comment on how these stats compare to SPY and other assets we have seen. How much do they differ between gross and net?\n",
    "\n",
    "LTCM's gross returns are significantly better (7% more average return per year, higher Sharpe ratio) than SPY during this period. The downside risk, as measured by excess kurtosis, VaR, and max drawdown, shows that LTCM and SPY have similar risk profiles, although note that SPY was well-behaved (nearly monotonically increasing) during this period. The net returns, gross returns less fees, are more aligned with the market."
   ],
   "id": "e062fe7e05209f26"
  },
  {
   "metadata": {
    "ExecuteTime": {
     "end_time": "2024-12-01T15:08:35.031423Z",
     "start_time": "2024-12-01T15:08:34.986104Z"
    }
   },
   "cell_type": "code",
   "source": [
    "importlib.reload(helper_funcs)\n",
    "\n",
    "# Calc excess returns\n",
    "ltcm_excess_ret = ltcm.sub(ltcm['rf'] / 12, axis=0)\n",
    "ltcm_excess_ret.drop('rf', axis=1, inplace=True)\n",
    "\n",
    "# Calc summary stats\n",
    "summary_stats = hf.performance_summary(ltcm_excess_ret).round(4)\n",
    "display(summary_stats[['Mean', 'Volatility', 'Sharpe Ratio', 'Skewness', 'Excess Kurtosis', 'VaR (0.05)', 'Max Drawdown']])"
   ],
   "id": "6e42b88a056323e7",
   "outputs": [
    {
     "data": {
      "text/plain": [
       "             Mean  Volatility  Sharpe Ratio  Skewness  Excess Kurtosis  \\\n",
       "spy        0.1752      0.1127        1.5551   -0.4325          -0.3587   \n",
       "gross_ret  0.2433      0.1363        1.7858   -0.2897           1.5800   \n",
       "net_ret    0.1566      0.1118        1.4009   -0.8117           2.9172   \n",
       "\n",
       "           VaR (0.05)  Max Drawdown  \n",
       "spy           -0.0466       -0.0559  \n",
       "gross_ret     -0.0304       -0.1688  \n",
       "net_ret       -0.0264       -0.1754  "
      ],
      "text/html": [
       "<div>\n",
       "<style scoped>\n",
       "    .dataframe tbody tr th:only-of-type {\n",
       "        vertical-align: middle;\n",
       "    }\n",
       "\n",
       "    .dataframe tbody tr th {\n",
       "        vertical-align: top;\n",
       "    }\n",
       "\n",
       "    .dataframe thead th {\n",
       "        text-align: right;\n",
       "    }\n",
       "</style>\n",
       "<table border=\"1\" class=\"dataframe\">\n",
       "  <thead>\n",
       "    <tr style=\"text-align: right;\">\n",
       "      <th></th>\n",
       "      <th>Mean</th>\n",
       "      <th>Volatility</th>\n",
       "      <th>Sharpe Ratio</th>\n",
       "      <th>Skewness</th>\n",
       "      <th>Excess Kurtosis</th>\n",
       "      <th>VaR (0.05)</th>\n",
       "      <th>Max Drawdown</th>\n",
       "    </tr>\n",
       "  </thead>\n",
       "  <tbody>\n",
       "    <tr>\n",
       "      <th>spy</th>\n",
       "      <td>0.1752</td>\n",
       "      <td>0.1127</td>\n",
       "      <td>1.5551</td>\n",
       "      <td>-0.4325</td>\n",
       "      <td>-0.3587</td>\n",
       "      <td>-0.0466</td>\n",
       "      <td>-0.0559</td>\n",
       "    </tr>\n",
       "    <tr>\n",
       "      <th>gross_ret</th>\n",
       "      <td>0.2433</td>\n",
       "      <td>0.1363</td>\n",
       "      <td>1.7858</td>\n",
       "      <td>-0.2897</td>\n",
       "      <td>1.5800</td>\n",
       "      <td>-0.0304</td>\n",
       "      <td>-0.1688</td>\n",
       "    </tr>\n",
       "    <tr>\n",
       "      <th>net_ret</th>\n",
       "      <td>0.1566</td>\n",
       "      <td>0.1118</td>\n",
       "      <td>1.4009</td>\n",
       "      <td>-0.8117</td>\n",
       "      <td>2.9172</td>\n",
       "      <td>-0.0264</td>\n",
       "      <td>-0.1754</td>\n",
       "    </tr>\n",
       "  </tbody>\n",
       "</table>\n",
       "</div>"
      ]
     },
     "metadata": {},
     "output_type": "display_data"
    }
   ],
   "execution_count": 2
  },
  {
   "metadata": {},
   "cell_type": "markdown",
   "source": [
    "#### 2.2 Estimate regression of net LTCM excess returns against market return\n",
    "\n",
    "1. Report alpha, beta, and R-squared.\n",
    "2. Does LTCM appear to be a \"closet indexer\"?\n",
    "3. Does LTCM appear to deliver excess returns beyond the market risk premium?"
   ],
   "id": "24a616df2e4ba760"
  },
  {
   "metadata": {
    "ExecuteTime": {
     "end_time": "2024-12-01T15:08:35.858773Z",
     "start_time": "2024-12-01T15:08:35.733689Z"
    }
   },
   "cell_type": "code",
   "source": [
    "# Alpha\n",
    "model = sm.OLS(ltcm_excess_ret[['net_ret']], sm.add_constant(ltcm_excess_ret['spy'])).fit()\n",
    "intercept = model.params[0].round(3)  # Intercept is the first parameter\n",
    "print(f\"Annualized intercept: {intercept * 12}\")\n",
    "\n",
    "# Market Beta\n",
    "beta_first_coefficient = model.params[1].round(3)  # First coefficient (excluding intercept)\n",
    "print(f\"Market beta: {beta_first_coefficient}\")\n",
    "\n",
    "# R-squared value\n",
    "r_squared = model.rsquared.round(3)\n",
    "print(f\"R-squared value: {r_squared}\")\n"
   ],
   "id": "5ce797a76ecfc28c",
   "outputs": [
    {
     "name": "stdout",
     "output_type": "stream",
     "text": [
      "Annualized intercept: 0.132\n",
      "Market beta: 0.137\n",
      "R-squared value: 0.019\n"
     ]
    }
   ],
   "execution_count": 3
  },
  {
   "metadata": {},
   "cell_type": "markdown",
   "source": [
    "#### 2.3 Check for non-linear market exposure\n",
    "\n",
    "1. Report betas and R-squared.\n",
    "2. Does the quadratic market factor increase the overall LTCM variation explained by the market?\n",
    "3. Does LTCM's market exposure behave as if it long or short market options?\n",
    "4. Should we describe LTCM as being positively or negatively exposed to market volatility?"
   ],
   "id": "49d96f1194d17b35"
  },
  {
   "metadata": {
    "ExecuteTime": {
     "end_time": "2024-12-01T15:08:35.886515Z",
     "start_time": "2024-12-01T15:08:35.875763Z"
    }
   },
   "cell_type": "code",
   "source": [
    "# Non-linear regression\n",
    "spy = ltcm_excess_ret['spy']\n",
    "spy_squared = spy ** 2\n",
    "X = pd.DataFrame({\n",
    "    'constant': 1,\n",
    "    'spy': spy,\n",
    "    'spy_squared': spy_squared\n",
    "})\n",
    "model = sm.OLS(ltcm_excess_ret[['net_ret']], X).fit()\n",
    "\n",
    "# Analysis\n",
    "# Market Beta\n",
    "beta1 = model.params[1].round(3)\n",
    "print(f\"Market beta: {beta1}\")\n",
    "beta2 = model.params[2].round(3)\n",
    "print(f\"Quadratic market beta: {beta2}\")\n",
    "\n",
    "# R-squared value\n",
    "r_squared = model.rsquared.round(3)\n",
    "print(f\"R-squared value: {r_squared}\")\n"
   ],
   "id": "364dd10a5b14cb28",
   "outputs": [
    {
     "name": "stdout",
     "output_type": "stream",
     "text": [
      "Market beta: 0.167\n",
      "Quadratic market beta: -1.929\n",
      "R-squared value: 0.025\n"
     ]
    }
   ],
   "execution_count": 4
  },
  {
   "metadata": {},
   "cell_type": "markdown",
   "source": [
    "#### 2.4. Does LTCM's nonlinear exposure come from up-markets or down-markets?\n",
    "\n",
    "1. Report regression coefficients and R-squared value.\n",
    "2. Is LTCM long or short the call-like factor? And the put-like factor?\n",
    "3. Which factor moves LTCM more, the call-like factor or the put-like factor?\n",
    "4. In section 3, we analyze if LTCM is positively or negatively exposed to market volatility. Does this volatility exposure come more from being long the market's update? Short the market's downside? Or something else?"
   ],
   "id": "8efa38889725f7b9"
  },
  {
   "metadata": {
    "ExecuteTime": {
     "end_time": "2024-12-01T15:08:35.918668Z",
     "start_time": "2024-12-01T15:08:35.906434Z"
    }
   },
   "cell_type": "code",
   "source": [
    "# Call/ put regression\n",
    "k1 = 0.03\n",
    "k2 = -0.03\n",
    "spy = ltcm_excess_ret['spy']\n",
    "spy_call = spy - k1\n",
    "spy_put = k2 - spy\n",
    "spy_squared = spy ** 2\n",
    "X = pd.DataFrame({\n",
    "    'constant': 1,\n",
    "    'spy': spy,\n",
    "    'spy_call': spy_call.apply(lambda x: max(x, 0)),\n",
    "    'spy_put': spy_put.apply(lambda x: max(x, 0))\n",
    "})\n",
    "model = sm.OLS(ltcm_excess_ret[['net_ret']], X).fit()\n",
    "\n",
    "# Analysis\n",
    "# Market Beta\n",
    "beta1 = model.params[1].round(4)\n",
    "beta2 = model.params[2].round(4)\n",
    "beta3 = model.params[3].round(4)\n",
    "print(f\"Market beta: {beta1}\\n\"\n",
    "      f\"Call beta: {beta2}\\n\"\n",
    "      f\"Put beta: {beta3}\\n\")\n",
    "\n",
    "# R-squared value\n",
    "r_squared = model.rsquared.round(4)\n",
    "print(f\"R-squared value: {r_squared}\")"
   ],
   "id": "34caa9805e979433",
   "outputs": [
    {
     "name": "stdout",
     "output_type": "stream",
     "text": [
      "Market beta: 0.4729\n",
      "Call beta: -0.7897\n",
      "Put beta: 1.3034\n",
      "\n",
      "R-squared value: 0.0566\n"
     ]
    }
   ],
   "execution_count": 5
  },
  {
   "metadata": {},
   "cell_type": "markdown",
   "source": [
    "### 3. The FX Carry Trade\n",
    "\n",
    "#### 3.1. Static Carry Trade\n",
    "\n",
    "1. Report the mean, volatility, and Sharpe ratio of the excess log return relative to USD for each foreign currency. What differences do you see across currencies?\n",
    "\n"
   ],
   "id": "f3c85f9a3b432172"
  },
  {
   "metadata": {
    "ExecuteTime": {
     "end_time": "2024-12-01T15:08:36.565310Z",
     "start_time": "2024-12-01T15:08:35.941404Z"
    }
   },
   "cell_type": "code",
   "source": [
    "# Data import\n",
    "rf = pd.read_excel('data/fx_rf_data.xlsx', sheet_name='risk-free rates').set_index('date')\n",
    "fx = pd.read_excel('data/fx_rf_data.xlsx', sheet_name='exchange rates').set_index('date')\n",
    "\n",
    "# Data cleaning\n",
    "log_rf = rf.apply(lambda x: np.log(1 + x))\n",
    "log_fx = fx.apply(lambda x: np.log(x))\n",
    "\n",
    "# Static carry trade for each currency\n",
    "currencies = ['JPY', 'EUR', 'GBP', 'MXN', 'CHF']\n",
    "carry_excess_ret = pd.DataFrame(index=log_fx.index)\n",
    "for currency in currencies:\n",
    "    tmp_fx = log_fx[currency] - log_fx[currency].shift(1)\n",
    "    tmp_rf = log_rf[currency].shift(1) - log_rf['USD'].shift(1) # rf rate from t -> t+1 known at time t\n",
    "    carry_excess_ret[currency] = tmp_fx + tmp_rf\n",
    "\n",
    "summary_stats = hf.performance_summary(carry_excess_ret).round(4)\n",
    "display(summary_stats[['Mean', 'Volatility', 'Sharpe Ratio']])"
   ],
   "id": "fe36fef1d2d224e9",
   "outputs": [
    {
     "data": {
      "text/plain": [
       "       Mean  Volatility  Sharpe Ratio\n",
       "JPY -0.1405      0.0591       -2.3789\n",
       "EUR -0.0814      0.0433       -1.8807\n",
       "GBP -0.0021      0.0355       -0.0584\n",
       "MXN  0.5517      0.0462       11.9477\n",
       "CHF -0.1541      0.0505       -3.0522"
      ],
      "text/html": [
       "<div>\n",
       "<style scoped>\n",
       "    .dataframe tbody tr th:only-of-type {\n",
       "        vertical-align: middle;\n",
       "    }\n",
       "\n",
       "    .dataframe tbody tr th {\n",
       "        vertical-align: top;\n",
       "    }\n",
       "\n",
       "    .dataframe thead th {\n",
       "        text-align: right;\n",
       "    }\n",
       "</style>\n",
       "<table border=\"1\" class=\"dataframe\">\n",
       "  <thead>\n",
       "    <tr style=\"text-align: right;\">\n",
       "      <th></th>\n",
       "      <th>Mean</th>\n",
       "      <th>Volatility</th>\n",
       "      <th>Sharpe Ratio</th>\n",
       "    </tr>\n",
       "  </thead>\n",
       "  <tbody>\n",
       "    <tr>\n",
       "      <th>JPY</th>\n",
       "      <td>-0.1405</td>\n",
       "      <td>0.0591</td>\n",
       "      <td>-2.3789</td>\n",
       "    </tr>\n",
       "    <tr>\n",
       "      <th>EUR</th>\n",
       "      <td>-0.0814</td>\n",
       "      <td>0.0433</td>\n",
       "      <td>-1.8807</td>\n",
       "    </tr>\n",
       "    <tr>\n",
       "      <th>GBP</th>\n",
       "      <td>-0.0021</td>\n",
       "      <td>0.0355</td>\n",
       "      <td>-0.0584</td>\n",
       "    </tr>\n",
       "    <tr>\n",
       "      <th>MXN</th>\n",
       "      <td>0.5517</td>\n",
       "      <td>0.0462</td>\n",
       "      <td>11.9477</td>\n",
       "    </tr>\n",
       "    <tr>\n",
       "      <th>CHF</th>\n",
       "      <td>-0.1541</td>\n",
       "      <td>0.0505</td>\n",
       "      <td>-3.0522</td>\n",
       "    </tr>\n",
       "  </tbody>\n",
       "</table>\n",
       "</div>"
      ]
     },
     "metadata": {},
     "output_type": "display_data"
    }
   ],
   "execution_count": 6
  },
  {
   "metadata": {},
   "cell_type": "markdown",
   "source": [
    "#### 3.2 Implications for the Uncovered Interest Parity (UIP)\n",
    "\n",
    "1. Do any of these stats contradict the UIP?\n",
    "\n",
    "L8.20, if UIP holds, carry trade should generate no excess return.\n",
    "\n",
    "2. A long position in which foreign currency offered the best Sharpe ratio over the sample?\n",
    "3. Are there any foreign currencies for which a long position earned a negative excess return in USD over the sample?"
   ],
   "id": "d07a8b0e25bcd268"
  },
  {
   "metadata": {},
   "cell_type": "markdown",
   "source": [
    "#### 3.3 Predicting FX\n",
    "\n",
    "1. Report regression statistics (intercept, beta, R-squared) for each currency regression.\n",
    "2. Suppose the foreign risk-free rate increases relative to the US rate.\n",
    "    1. For which foreign currencies would we predict a relative strengthening of the USD in the following period?\n",
    "    2. For which currencies would we predict relative weakening of the USD in the following period?\n",
    "\n",
    "    See note at end of page 4 for interpretation.\n",
    "\n",
    "    3. This FX predictability is strongest in the case of which foreign currency?"
   ],
   "id": "25b3319443115c63"
  },
  {
   "metadata": {
    "ExecuteTime": {
     "end_time": "2024-12-01T15:08:36.622873Z",
     "start_time": "2024-12-01T15:08:36.592146Z"
    }
   },
   "cell_type": "code",
   "source": [
    "# Regression for each currency\n",
    "currencies = ['JPY', 'EUR', 'GBP', 'MXN', 'CHF']\n",
    "currency_reg_stats = pd.DataFrame(index=['Intercept', 'Beta', 'R-squared'])\n",
    "for currency in currencies:\n",
    "    y = log_fx[currency] - log_fx[currency].shift(1) # all time-t variables lagged\n",
    "    x = log_rf['USD'].shift(1) - log_rf[currency].shift(1)\n",
    "    tmp_reg_data = pd.DataFrame({'x' : x, 'y': y})\n",
    "    tmp_reg_data['const'] = 1\n",
    "    tmp_reg_data.dropna(inplace=True)\n",
    "\n",
    "    model = sm.OLS(tmp_reg_data['y'], tmp_reg_data[['const','x']]).fit()\n",
    "\n",
    "    # save results\n",
    "    tmp_reg_stats = pd.Series([model.params['const'], model.params['x'], model.rsquared],\n",
    "                              index=['Intercept', 'Beta', 'R-squared'])\n",
    "    currency_reg_stats[currency] = tmp_reg_stats\n",
    "\n",
    "display(currency_reg_stats)"
   ],
   "id": "322c053e38f18db3",
   "outputs": [
    {
     "data": {
      "text/plain": [
       "                JPY       EUR       GBP       MXN       CHF\n",
       "Intercept -0.000087 -0.000124 -0.000100 -0.000313  0.000016\n",
       "Beta       0.001452  0.008577  0.027484 -0.003782  0.003575\n",
       "R-squared  0.000014  0.000288  0.001517  0.000023  0.000047"
      ],
      "text/html": [
       "<div>\n",
       "<style scoped>\n",
       "    .dataframe tbody tr th:only-of-type {\n",
       "        vertical-align: middle;\n",
       "    }\n",
       "\n",
       "    .dataframe tbody tr th {\n",
       "        vertical-align: top;\n",
       "    }\n",
       "\n",
       "    .dataframe thead th {\n",
       "        text-align: right;\n",
       "    }\n",
       "</style>\n",
       "<table border=\"1\" class=\"dataframe\">\n",
       "  <thead>\n",
       "    <tr style=\"text-align: right;\">\n",
       "      <th></th>\n",
       "      <th>JPY</th>\n",
       "      <th>EUR</th>\n",
       "      <th>GBP</th>\n",
       "      <th>MXN</th>\n",
       "      <th>CHF</th>\n",
       "    </tr>\n",
       "  </thead>\n",
       "  <tbody>\n",
       "    <tr>\n",
       "      <th>Intercept</th>\n",
       "      <td>-0.000087</td>\n",
       "      <td>-0.000124</td>\n",
       "      <td>-0.000100</td>\n",
       "      <td>-0.000313</td>\n",
       "      <td>0.000016</td>\n",
       "    </tr>\n",
       "    <tr>\n",
       "      <th>Beta</th>\n",
       "      <td>0.001452</td>\n",
       "      <td>0.008577</td>\n",
       "      <td>0.027484</td>\n",
       "      <td>-0.003782</td>\n",
       "      <td>0.003575</td>\n",
       "    </tr>\n",
       "    <tr>\n",
       "      <th>R-squared</th>\n",
       "      <td>0.000014</td>\n",
       "      <td>0.000288</td>\n",
       "      <td>0.001517</td>\n",
       "      <td>0.000023</td>\n",
       "      <td>0.000047</td>\n",
       "    </tr>\n",
       "  </tbody>\n",
       "</table>\n",
       "</div>"
      ]
     },
     "metadata": {},
     "output_type": "display_data"
    }
   ],
   "execution_count": 7
  },
  {
   "metadata": {},
   "cell_type": "markdown",
   "source": [
    "#### 3.4 Dynamic Carry Trade\n",
    "\n",
    "1. Calculate how often the estimated FX risk premium is positive.\n",
    "2. Which currencies most consistently have a positive FX risk premium? And for which currencies does the FX risk premium most often go negative?\n",
    "3. Explain how we could use these conditional risk premia to improve the static carry trade returns calculated in Problem 1.\n"
   ],
   "id": "936b5cb892b1ecab"
  },
  {
   "metadata": {
    "ExecuteTime": {
     "end_time": "2024-12-01T15:08:36.892321Z",
     "start_time": "2024-12-01T15:08:36.880283Z"
    }
   },
   "cell_type": "code",
   "source": [
    "# Estimated the FX risk premium\n",
    "print('Percentage of periods (days) with positive FX risk premium')\n",
    "for currency in currencies:\n",
    "    int_rate_diff = log_rf['USD'].shift(1) - log_rf[currency].shift(1)\n",
    "    est_fx_premium = currency_reg_stats[currency]['Intercept'] + (currency_reg_stats[currency]['Intercept'] - 1)*int_rate_diff\n",
    "\n",
    "    # Calculate the percentage of positive numbers\n",
    "    positive_count = (est_fx_premium > 0).sum()\n",
    "    total_count = len(est_fx_premium)\n",
    "    percent_positive = (positive_count / total_count) * 100\n",
    "\n",
    "    # Display the result\n",
    "    print(f\"{currency}: {percent_positive:.2f}%\")\n"
   ],
   "id": "8d420a1871e75673",
   "outputs": [
    {
     "name": "stdout",
     "output_type": "stream",
     "text": [
      "Percentage of periods (days) with positive FX risk premium\n",
      "JPY: 0.09%\n",
      "EUR: 25.97%\n",
      "GBP: 52.08%\n",
      "MXN: 99.98%\n",
      "CHF: 2.64%\n"
     ]
    }
   ],
   "execution_count": 8
  }
 ],
 "metadata": {
  "kernelspec": {
   "display_name": "Python 3",
   "language": "python",
   "name": "python3"
  },
  "language_info": {
   "codemirror_mode": {
    "name": "ipython",
    "version": 2
   },
   "file_extension": ".py",
   "mimetype": "text/x-python",
   "name": "python",
   "nbconvert_exporter": "python",
   "pygments_lexer": "ipython2",
   "version": "2.7.6"
  }
 },
 "nbformat": 4,
 "nbformat_minor": 5
}
